{
 "cells": [
  {
   "cell_type": "markdown",
   "id": "ec4f4ba9",
   "metadata": {},
   "source": [
    "# TEST"
   ]
  },
  {
   "cell_type": "markdown",
   "id": "873b9621",
   "metadata": {},
   "source": [
    "## TEST"
   ]
  },
  {
   "cell_type": "code",
   "execution_count": 1,
   "id": "d4e7895f",
   "metadata": {
    "execution": {
     "iopub.execute_input": "2025-04-29T04:10:27.216119Z",
     "iopub.status.busy": "2025-04-29T04:10:27.216119Z",
     "iopub.status.idle": "2025-04-29T04:10:27.229387Z",
     "shell.execute_reply": "2025-04-29T04:10:27.229387Z"
    },
    "vscode": {
     "languageId": "plaintext"
    }
   },
   "outputs": [
    {
     "name": "stdout",
     "output_type": "stream",
     "text": [
      "1\n"
     ]
    }
   ],
   "source": [
    "print(1)"
   ]
  }
 ],
 "metadata": {
  "language_info": {
   "codemirror_mode": {
    "name": "ipython",
    "version": 3
   },
   "file_extension": ".py",
   "mimetype": "text/x-python",
   "name": "python",
   "nbconvert_exporter": "python",
   "pygments_lexer": "ipython3",
   "version": "3.10.16"
  }
 },
 "nbformat": 4,
 "nbformat_minor": 5
}
