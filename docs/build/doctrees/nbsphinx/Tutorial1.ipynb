{
 "cells": [
  {
   "cell_type": "markdown",
   "id": "ec4f4ba9",
   "metadata": {},
   "source": [
    "# Tutorial 1 Querying niches on simulation data"
   ]
  },
  {
   "cell_type": "code",
   "execution_count": 1,
   "id": "d4e7895f",
   "metadata": {
    "execution": {
     "iopub.execute_input": "2025-04-29T12:12:20.124317Z",
     "iopub.status.busy": "2025-04-29T12:12:20.124317Z",
     "iopub.status.idle": "2025-04-29T12:12:20.137049Z",
     "shell.execute_reply": "2025-04-29T12:12:20.137049Z"
    },
    "vscode": {
     "languageId": "plaintext"
    }
   },
   "outputs": [
    {
     "name": "stdout",
     "output_type": "stream",
     "text": [
      "1\n"
     ]
    }
   ],
   "source": [
    "print(1)"
   ]
  }
 ],
 "metadata": {
  "language_info": {
   "codemirror_mode": {
    "name": "ipython",
    "version": 3
   },
   "file_extension": ".py",
   "mimetype": "text/x-python",
   "name": "python",
   "nbconvert_exporter": "python",
   "pygments_lexer": "ipython3",
   "version": "3.10.16"
  }
 },
 "nbformat": 4,
 "nbformat_minor": 5
}
